{
  "nbformat": 4,
  "nbformat_minor": 0,
  "metadata": {
    "colab": {
      "name": "Phase 2 Code",
      "provenance": [],
      "authorship_tag": "ABX9TyNNGRymRejb1z8CjPxRzZAE"
    },
    "kernelspec": {
      "name": "python3",
      "display_name": "Python 3"
    }
  },
  "cells": [
    {
      "cell_type": "code",
      "metadata": {
        "id": "eyjpOoccAtFq",
        "outputId": "fff65ccc-276e-45c4-ea17-d71ae2837d3d",
        "colab": {
          "base_uri": "https://localhost:8080/"
        }
      },
      "source": [
        "!pip install -U -q PyDrive \n",
        "  \n",
        "from pydrive.auth import GoogleAuth \n",
        "from pydrive.drive import GoogleDrive \n",
        "from google.colab import auth \n",
        "from oauth2client.client import GoogleCredentials \n",
        "  \n",
        "\n",
        "auth.authenticate_user() \n",
        "gauth = GoogleAuth() \n",
        "gauth.credentials = GoogleCredentials.get_application_default() \n",
        "drive = GoogleDrive(gauth)\n",
        "\n",
        "\n",
        "link = 'https://drive.google.com/file/d/1U7dejaz0a6wrtrk3nabkozWeQycvzcY7/view?usp=sharing'\n",
        "  \n",
        "import pandas as pd \n",
        "pd.options.mode.chained_assignment = None  \n",
        "  \n",
        "id = link.split(\"/\")[-2] \n",
        "  \n",
        "downloaded = drive.CreateFile({'id':id})  \n",
        "downloaded.GetContentFile('1999.csv.bz2')\n",
        "data_1999 = pd.read_csv('1999.csv.bz2', encoding='latin-1') \n",
        "print(data_1999.head())\n"
      ],
      "execution_count": 26,
      "outputs": [
        {
          "output_type": "stream",
          "text": [
            "   Year  Month  DayofMonth  ...  NASDelay  SecurityDelay  LateAircraftDelay\n",
            "0  1999      1          27  ...       NaN            NaN                NaN\n",
            "1  1999      1          28  ...       NaN            NaN                NaN\n",
            "2  1999      1          29  ...       NaN            NaN                NaN\n",
            "3  1999      1          31  ...       NaN            NaN                NaN\n",
            "4  1999      1           1  ...       NaN            NaN                NaN\n",
            "\n",
            "[5 rows x 29 columns]\n"
          ],
          "name": "stdout"
        }
      ]
    },
    {
      "cell_type": "code",
      "metadata": {
        "id": "GtDyfcl-WBId",
        "outputId": "25e2a0f0-81ea-4eb3-c1fc-a3c86f5b8f06",
        "colab": {
          "base_uri": "https://localhost:8080/"
        }
      },
      "source": [
        "print (data_1999.columns)\n",
        "print (\"Total columns: \",\n",
        "       len(data_1999.columns))\n",
        "print (\"Total rows: \",\n",
        "       len (data_1999['Year']))"
      ],
      "execution_count": 27,
      "outputs": [
        {
          "output_type": "stream",
          "text": [
            "Index(['Year', 'Month', 'DayofMonth', 'DayOfWeek', 'DepTime', 'CRSDepTime',\n",
            "       'ArrTime', 'CRSArrTime', 'UniqueCarrier', 'FlightNum', 'TailNum',\n",
            "       'ActualElapsedTime', 'CRSElapsedTime', 'AirTime', 'ArrDelay',\n",
            "       'DepDelay', 'Origin', 'Dest', 'Distance', 'TaxiIn', 'TaxiOut',\n",
            "       'Cancelled', 'CancellationCode', 'Diverted', 'CarrierDelay',\n",
            "       'WeatherDelay', 'NASDelay', 'SecurityDelay', 'LateAircraftDelay'],\n",
            "      dtype='object')\n",
            "Total columns:  29\n",
            "Total rows:  5527884\n"
          ],
          "name": "stdout"
        }
      ]
    },
    {
      "cell_type": "code",
      "metadata": {
        "id": "BnjpsA39wPgf",
        "outputId": "656a6f18-e5fc-4799-f00d-ab2e8027d447",
        "colab": {
          "base_uri": "https://localhost:8080/"
        }
      },
      "source": [
        "print (data_1999.describe())"
      ],
      "execution_count": 28,
      "outputs": [
        {
          "output_type": "stream",
          "text": [
            "            Year         Month  ...  SecurityDelay  LateAircraftDelay\n",
            "count  5527884.0  5.527884e+06  ...            0.0                0.0\n",
            "mean      1999.0  6.564378e+00  ...            NaN                NaN\n",
            "std          0.0  3.434520e+00  ...            NaN                NaN\n",
            "min       1999.0  1.000000e+00  ...            NaN                NaN\n",
            "25%       1999.0  4.000000e+00  ...            NaN                NaN\n",
            "50%       1999.0  7.000000e+00  ...            NaN                NaN\n",
            "75%       1999.0  1.000000e+01  ...            NaN                NaN\n",
            "max       1999.0  1.200000e+01  ...            NaN                NaN\n",
            "\n",
            "[8 rows x 25 columns]\n"
          ],
          "name": "stdout"
        }
      ]
    },
    {
      "cell_type": "code",
      "metadata": {
        "id": "ELPU7T5UwiQS",
        "outputId": "fbf1c30f-20c2-4789-f2a4-348b9325a7ee",
        "colab": {
          "base_uri": "https://localhost:8080/"
        }
      },
      "source": [
        "data_1999_reduced = data_1999[['Year', 'Month', 'DayofMonth', 'DayOfWeek', 'DepTime', 'CRSDepTime',\n",
        "       'ArrTime', 'CRSArrTime', 'UniqueCarrier', 'FlightNum', 'TailNum',\n",
        "       'ActualElapsedTime', 'CRSElapsedTime', 'AirTime', 'ArrDelay',\n",
        "       'DepDelay', 'Origin', 'Dest', 'Distance', 'TaxiIn', 'TaxiOut',\n",
        "       'Cancelled','Diverted']]\n",
        "print(\"Total columns: \",\n",
        "      len(data_1999_reduced.columns))\n",
        "print(\"Total rows: \",\n",
        "      len(data_1999_reduced['Year']))\n",
        "\n"
      ],
      "execution_count": 29,
      "outputs": [
        {
          "output_type": "stream",
          "text": [
            "Total columns:  23\n",
            "Total rows:  5527884\n"
          ],
          "name": "stdout"
        }
      ]
    },
    {
      "cell_type": "code",
      "metadata": {
        "id": "n26brbwVyLgW",
        "outputId": "2b533620-e6be-431e-de2c-4f869a188fcf",
        "colab": {
          "base_uri": "https://localhost:8080/"
        }
      },
      "source": [
        "data_1999_clean=data_1999_reduced.dropna()\n",
        "print(\"Total columns: \",\n",
        "      len(data_1999_clean.columns))\n",
        "print(\"Total rows: \",\n",
        "      len(data_1999_clean['Year']))"
      ],
      "execution_count": 30,
      "outputs": [
        {
          "output_type": "stream",
          "text": [
            "Total columns:  23\n",
            "Total rows:  5360018\n"
          ],
          "name": "stdout"
        }
      ]
    },
    {
      "cell_type": "code",
      "metadata": {
        "id": "2KGAu2tuzIjd",
        "outputId": "0eb7a1cd-2b7a-424e-801c-1b65bbe8d2b4",
        "colab": {
          "base_uri": "https://localhost:8080/"
        }
      },
      "source": [
        "difference=len(data_1999_reduced['Year'])-len(data_1999_clean['Year'])\n",
        "print('Rows removed: ',difference)\n",
        "print('Percetange of original data removed: ',format((difference/len(data_1999_reduced)), '.2%'))\n"
      ],
      "execution_count": 31,
      "outputs": [
        {
          "output_type": "stream",
          "text": [
            "Rows removed:  167866\n",
            "Percetange of original data removed:  3.04%\n"
          ],
          "name": "stdout"
        }
      ]
    },
    {
      "cell_type": "code",
      "metadata": {
        "id": "sXBBibfnzUlW",
        "outputId": "d7762248-e64d-46f0-e84c-b5b53b61d359",
        "colab": {
          "base_uri": "https://localhost:8080/",
          "height": 222
        }
      },
      "source": [
        "data_1999_clean.head()"
      ],
      "execution_count": 32,
      "outputs": [
        {
          "output_type": "execute_result",
          "data": {
            "text/html": [
              "<div>\n",
              "<style scoped>\n",
              "    .dataframe tbody tr th:only-of-type {\n",
              "        vertical-align: middle;\n",
              "    }\n",
              "\n",
              "    .dataframe tbody tr th {\n",
              "        vertical-align: top;\n",
              "    }\n",
              "\n",
              "    .dataframe thead th {\n",
              "        text-align: right;\n",
              "    }\n",
              "</style>\n",
              "<table border=\"1\" class=\"dataframe\">\n",
              "  <thead>\n",
              "    <tr style=\"text-align: right;\">\n",
              "      <th></th>\n",
              "      <th>Year</th>\n",
              "      <th>Month</th>\n",
              "      <th>DayofMonth</th>\n",
              "      <th>DayOfWeek</th>\n",
              "      <th>DepTime</th>\n",
              "      <th>CRSDepTime</th>\n",
              "      <th>ArrTime</th>\n",
              "      <th>CRSArrTime</th>\n",
              "      <th>UniqueCarrier</th>\n",
              "      <th>FlightNum</th>\n",
              "      <th>TailNum</th>\n",
              "      <th>ActualElapsedTime</th>\n",
              "      <th>CRSElapsedTime</th>\n",
              "      <th>AirTime</th>\n",
              "      <th>ArrDelay</th>\n",
              "      <th>DepDelay</th>\n",
              "      <th>Origin</th>\n",
              "      <th>Dest</th>\n",
              "      <th>Distance</th>\n",
              "      <th>TaxiIn</th>\n",
              "      <th>TaxiOut</th>\n",
              "      <th>Cancelled</th>\n",
              "      <th>Diverted</th>\n",
              "    </tr>\n",
              "  </thead>\n",
              "  <tbody>\n",
              "    <tr>\n",
              "      <th>0</th>\n",
              "      <td>1999</td>\n",
              "      <td>1</td>\n",
              "      <td>27</td>\n",
              "      <td>3</td>\n",
              "      <td>1906.0</td>\n",
              "      <td>1908</td>\n",
              "      <td>2024.0</td>\n",
              "      <td>2005</td>\n",
              "      <td>US</td>\n",
              "      <td>1244</td>\n",
              "      <td>N942VJ</td>\n",
              "      <td>78.0</td>\n",
              "      <td>57.0</td>\n",
              "      <td>66.0</td>\n",
              "      <td>19.0</td>\n",
              "      <td>-2.0</td>\n",
              "      <td>RIC</td>\n",
              "      <td>PHL</td>\n",
              "      <td>198</td>\n",
              "      <td>3</td>\n",
              "      <td>9</td>\n",
              "      <td>0</td>\n",
              "      <td>0</td>\n",
              "    </tr>\n",
              "    <tr>\n",
              "      <th>1</th>\n",
              "      <td>1999</td>\n",
              "      <td>1</td>\n",
              "      <td>28</td>\n",
              "      <td>4</td>\n",
              "      <td>2016.0</td>\n",
              "      <td>1908</td>\n",
              "      <td>2126.0</td>\n",
              "      <td>2005</td>\n",
              "      <td>US</td>\n",
              "      <td>1244</td>\n",
              "      <td>N955VJ</td>\n",
              "      <td>70.0</td>\n",
              "      <td>57.0</td>\n",
              "      <td>41.0</td>\n",
              "      <td>81.0</td>\n",
              "      <td>68.0</td>\n",
              "      <td>RIC</td>\n",
              "      <td>PHL</td>\n",
              "      <td>198</td>\n",
              "      <td>19</td>\n",
              "      <td>10</td>\n",
              "      <td>0</td>\n",
              "      <td>0</td>\n",
              "    </tr>\n",
              "    <tr>\n",
              "      <th>2</th>\n",
              "      <td>1999</td>\n",
              "      <td>1</td>\n",
              "      <td>29</td>\n",
              "      <td>5</td>\n",
              "      <td>1907.0</td>\n",
              "      <td>1908</td>\n",
              "      <td>2000.0</td>\n",
              "      <td>2005</td>\n",
              "      <td>US</td>\n",
              "      <td>1244</td>\n",
              "      <td>N929VJ</td>\n",
              "      <td>53.0</td>\n",
              "      <td>57.0</td>\n",
              "      <td>43.0</td>\n",
              "      <td>-5.0</td>\n",
              "      <td>-1.0</td>\n",
              "      <td>RIC</td>\n",
              "      <td>PHL</td>\n",
              "      <td>198</td>\n",
              "      <td>2</td>\n",
              "      <td>8</td>\n",
              "      <td>0</td>\n",
              "      <td>0</td>\n",
              "    </tr>\n",
              "    <tr>\n",
              "      <th>3</th>\n",
              "      <td>1999</td>\n",
              "      <td>1</td>\n",
              "      <td>31</td>\n",
              "      <td>7</td>\n",
              "      <td>1932.0</td>\n",
              "      <td>1908</td>\n",
              "      <td>2031.0</td>\n",
              "      <td>2005</td>\n",
              "      <td>US</td>\n",
              "      <td>1244</td>\n",
              "      <td>N912VJ</td>\n",
              "      <td>59.0</td>\n",
              "      <td>57.0</td>\n",
              "      <td>45.0</td>\n",
              "      <td>26.0</td>\n",
              "      <td>24.0</td>\n",
              "      <td>RIC</td>\n",
              "      <td>PHL</td>\n",
              "      <td>198</td>\n",
              "      <td>6</td>\n",
              "      <td>8</td>\n",
              "      <td>0</td>\n",
              "      <td>0</td>\n",
              "    </tr>\n",
              "    <tr>\n",
              "      <th>4</th>\n",
              "      <td>1999</td>\n",
              "      <td>1</td>\n",
              "      <td>1</td>\n",
              "      <td>5</td>\n",
              "      <td>1601.0</td>\n",
              "      <td>1535</td>\n",
              "      <td>1707.0</td>\n",
              "      <td>1645</td>\n",
              "      <td>US</td>\n",
              "      <td>297</td>\n",
              "      <td>N935VJ</td>\n",
              "      <td>66.0</td>\n",
              "      <td>70.0</td>\n",
              "      <td>47.0</td>\n",
              "      <td>22.0</td>\n",
              "      <td>26.0</td>\n",
              "      <td>ROC</td>\n",
              "      <td>PHL</td>\n",
              "      <td>257</td>\n",
              "      <td>11</td>\n",
              "      <td>8</td>\n",
              "      <td>0</td>\n",
              "      <td>0</td>\n",
              "    </tr>\n",
              "  </tbody>\n",
              "</table>\n",
              "</div>"
            ],
            "text/plain": [
              "   Year  Month  DayofMonth  DayOfWeek  ...  TaxiIn  TaxiOut  Cancelled  Diverted\n",
              "0  1999      1          27          3  ...       3        9          0         0\n",
              "1  1999      1          28          4  ...      19       10          0         0\n",
              "2  1999      1          29          5  ...       2        8          0         0\n",
              "3  1999      1          31          7  ...       6        8          0         0\n",
              "4  1999      1           1          5  ...      11        8          0         0\n",
              "\n",
              "[5 rows x 23 columns]"
            ]
          },
          "metadata": {
            "tags": []
          },
          "execution_count": 32
        }
      ]
    },
    {
      "cell_type": "code",
      "metadata": {
        "id": "eaEmm3fHzqEb",
        "outputId": "ae8dc43d-6462-4165-f5d1-3951111c484f",
        "colab": {
          "base_uri": "https://localhost:8080/"
        }
      },
      "source": [
        "column_names=list(data_1999_clean)\n",
        "print(column_names)"
      ],
      "execution_count": 33,
      "outputs": [
        {
          "output_type": "stream",
          "text": [
            "['Year', 'Month', 'DayofMonth', 'DayOfWeek', 'DepTime', 'CRSDepTime', 'ArrTime', 'CRSArrTime', 'UniqueCarrier', 'FlightNum', 'TailNum', 'ActualElapsedTime', 'CRSElapsedTime', 'AirTime', 'ArrDelay', 'DepDelay', 'Origin', 'Dest', 'Distance', 'TaxiIn', 'TaxiOut', 'Cancelled', 'Diverted']\n"
          ],
          "name": "stdout"
        }
      ]
    },
    {
      "cell_type": "code",
      "metadata": {
        "id": "q-ccuuwe3gfR",
        "outputId": "f6ac733c-36dc-4a84-e478-12c3ea1f1407",
        "colab": {
          "base_uri": "https://localhost:8080/"
        }
      },
      "source": [
        "import random as r\n",
        "random_num=[]\n",
        "for i in range (0, 1000):\n",
        "  random_num.append(r.randrange(0,len(data_1999_clean)))\n",
        "\n",
        "print(random_num[:10])\n",
        "print('Length of random_num', len(random_num))"
      ],
      "execution_count": 34,
      "outputs": [
        {
          "output_type": "stream",
          "text": [
            "[4119340, 3652544, 4738554, 5015475, 1831121, 2969246, 94311, 916011, 566228, 4362183]\n",
            "Length of random_num 1000\n"
          ],
          "name": "stdout"
        }
      ]
    },
    {
      "cell_type": "code",
      "metadata": {
        "id": "1-4A5cIu4QvC",
        "outputId": "3f61d22c-af64-4c13-91b9-440fd2325c24",
        "colab": {
          "base_uri": "https://localhost:8080/"
        }
      },
      "source": [
        "random1000=[column_names]\n",
        "for j in random_num:\n",
        "    row=list(data_1999_clean.iloc[j])\n",
        "    random1000.append(row)\n",
        "print(random1000[:5])\n",
        "print(\"/n\")\n",
        "print('Sample data rows:', len(random1000))  "
      ],
      "execution_count": 35,
      "outputs": [
        {
          "output_type": "stream",
          "text": [
            "[['Year', 'Month', 'DayofMonth', 'DayOfWeek', 'DepTime', 'CRSDepTime', 'ArrTime', 'CRSArrTime', 'UniqueCarrier', 'FlightNum', 'TailNum', 'ActualElapsedTime', 'CRSElapsedTime', 'AirTime', 'ArrDelay', 'DepDelay', 'Origin', 'Dest', 'Distance', 'TaxiIn', 'TaxiOut', 'Cancelled', 'Diverted'], [1999, 10, 3, 7, 1447.0, 1440, 1540.0, 1540, 'WN', 843, 'N61', 53.0, 60.0, 47.0, 0.0, 7.0, 'OKC', 'MCI', 313, 2, 4, 0, 0], [1999, 9, 11, 6, 1507.0, 1515, 1610.0, 1628, 'UA', 2629, 'N932UA', 63.0, 73.0, 47.0, -18.0, -8.0, 'SJC', 'LAX', 308, 3, 13, 0, 0], [1999, 11, 15, 1, 1244.0, 1245, 1513.0, 1512, 'UA', 1766, 'N7262U', 149.0, 147.0, 134.0, 1.0, -1.0, 'MIA', 'IAD', 921, 7, 8, 0, 0], [1999, 12, 16, 4, 1453.0, 1431, 1611.0, 1550, 'UA', 2509, 'N382UA', 78.0, 79.0, 61.0, 21.0, 22.0, 'SMF', 'LAX', 373, 7, 10, 0, 0]]\n",
            "/n\n",
            "Sample data rows: 1001\n"
          ],
          "name": "stdout"
        }
      ]
    },
    {
      "cell_type": "code",
      "metadata": {
        "id": "m_0h8Ckb4r9K"
      },
      "source": [
        "random_df=pd.DataFrame(random1000[1:], columns=column_names)"
      ],
      "execution_count": 36,
      "outputs": []
    },
    {
      "cell_type": "code",
      "metadata": {
        "id": "RnHwJ6zH5Bmw",
        "outputId": "a105e1de-faa1-4826-e014-9ebd5633c82b",
        "colab": {
          "base_uri": "https://localhost:8080/",
          "height": 222
        }
      },
      "source": [
        "random_df.head()"
      ],
      "execution_count": 37,
      "outputs": [
        {
          "output_type": "execute_result",
          "data": {
            "text/html": [
              "<div>\n",
              "<style scoped>\n",
              "    .dataframe tbody tr th:only-of-type {\n",
              "        vertical-align: middle;\n",
              "    }\n",
              "\n",
              "    .dataframe tbody tr th {\n",
              "        vertical-align: top;\n",
              "    }\n",
              "\n",
              "    .dataframe thead th {\n",
              "        text-align: right;\n",
              "    }\n",
              "</style>\n",
              "<table border=\"1\" class=\"dataframe\">\n",
              "  <thead>\n",
              "    <tr style=\"text-align: right;\">\n",
              "      <th></th>\n",
              "      <th>Year</th>\n",
              "      <th>Month</th>\n",
              "      <th>DayofMonth</th>\n",
              "      <th>DayOfWeek</th>\n",
              "      <th>DepTime</th>\n",
              "      <th>CRSDepTime</th>\n",
              "      <th>ArrTime</th>\n",
              "      <th>CRSArrTime</th>\n",
              "      <th>UniqueCarrier</th>\n",
              "      <th>FlightNum</th>\n",
              "      <th>TailNum</th>\n",
              "      <th>ActualElapsedTime</th>\n",
              "      <th>CRSElapsedTime</th>\n",
              "      <th>AirTime</th>\n",
              "      <th>ArrDelay</th>\n",
              "      <th>DepDelay</th>\n",
              "      <th>Origin</th>\n",
              "      <th>Dest</th>\n",
              "      <th>Distance</th>\n",
              "      <th>TaxiIn</th>\n",
              "      <th>TaxiOut</th>\n",
              "      <th>Cancelled</th>\n",
              "      <th>Diverted</th>\n",
              "    </tr>\n",
              "  </thead>\n",
              "  <tbody>\n",
              "    <tr>\n",
              "      <th>0</th>\n",
              "      <td>1999</td>\n",
              "      <td>10</td>\n",
              "      <td>3</td>\n",
              "      <td>7</td>\n",
              "      <td>1447.0</td>\n",
              "      <td>1440</td>\n",
              "      <td>1540.0</td>\n",
              "      <td>1540</td>\n",
              "      <td>WN</td>\n",
              "      <td>843</td>\n",
              "      <td>N61</td>\n",
              "      <td>53.0</td>\n",
              "      <td>60.0</td>\n",
              "      <td>47.0</td>\n",
              "      <td>0.0</td>\n",
              "      <td>7.0</td>\n",
              "      <td>OKC</td>\n",
              "      <td>MCI</td>\n",
              "      <td>313</td>\n",
              "      <td>2</td>\n",
              "      <td>4</td>\n",
              "      <td>0</td>\n",
              "      <td>0</td>\n",
              "    </tr>\n",
              "    <tr>\n",
              "      <th>1</th>\n",
              "      <td>1999</td>\n",
              "      <td>9</td>\n",
              "      <td>11</td>\n",
              "      <td>6</td>\n",
              "      <td>1507.0</td>\n",
              "      <td>1515</td>\n",
              "      <td>1610.0</td>\n",
              "      <td>1628</td>\n",
              "      <td>UA</td>\n",
              "      <td>2629</td>\n",
              "      <td>N932UA</td>\n",
              "      <td>63.0</td>\n",
              "      <td>73.0</td>\n",
              "      <td>47.0</td>\n",
              "      <td>-18.0</td>\n",
              "      <td>-8.0</td>\n",
              "      <td>SJC</td>\n",
              "      <td>LAX</td>\n",
              "      <td>308</td>\n",
              "      <td>3</td>\n",
              "      <td>13</td>\n",
              "      <td>0</td>\n",
              "      <td>0</td>\n",
              "    </tr>\n",
              "    <tr>\n",
              "      <th>2</th>\n",
              "      <td>1999</td>\n",
              "      <td>11</td>\n",
              "      <td>15</td>\n",
              "      <td>1</td>\n",
              "      <td>1244.0</td>\n",
              "      <td>1245</td>\n",
              "      <td>1513.0</td>\n",
              "      <td>1512</td>\n",
              "      <td>UA</td>\n",
              "      <td>1766</td>\n",
              "      <td>N7262U</td>\n",
              "      <td>149.0</td>\n",
              "      <td>147.0</td>\n",
              "      <td>134.0</td>\n",
              "      <td>1.0</td>\n",
              "      <td>-1.0</td>\n",
              "      <td>MIA</td>\n",
              "      <td>IAD</td>\n",
              "      <td>921</td>\n",
              "      <td>7</td>\n",
              "      <td>8</td>\n",
              "      <td>0</td>\n",
              "      <td>0</td>\n",
              "    </tr>\n",
              "    <tr>\n",
              "      <th>3</th>\n",
              "      <td>1999</td>\n",
              "      <td>12</td>\n",
              "      <td>16</td>\n",
              "      <td>4</td>\n",
              "      <td>1453.0</td>\n",
              "      <td>1431</td>\n",
              "      <td>1611.0</td>\n",
              "      <td>1550</td>\n",
              "      <td>UA</td>\n",
              "      <td>2509</td>\n",
              "      <td>N382UA</td>\n",
              "      <td>78.0</td>\n",
              "      <td>79.0</td>\n",
              "      <td>61.0</td>\n",
              "      <td>21.0</td>\n",
              "      <td>22.0</td>\n",
              "      <td>SMF</td>\n",
              "      <td>LAX</td>\n",
              "      <td>373</td>\n",
              "      <td>7</td>\n",
              "      <td>10</td>\n",
              "      <td>0</td>\n",
              "      <td>0</td>\n",
              "    </tr>\n",
              "    <tr>\n",
              "      <th>4</th>\n",
              "      <td>1999</td>\n",
              "      <td>5</td>\n",
              "      <td>7</td>\n",
              "      <td>5</td>\n",
              "      <td>2213.0</td>\n",
              "      <td>2155</td>\n",
              "      <td>2352.0</td>\n",
              "      <td>2347</td>\n",
              "      <td>AA</td>\n",
              "      <td>531</td>\n",
              "      <td>N2ABAA</td>\n",
              "      <td>99.0</td>\n",
              "      <td>112.0</td>\n",
              "      <td>80.0</td>\n",
              "      <td>5.0</td>\n",
              "      <td>18.0</td>\n",
              "      <td>ORD</td>\n",
              "      <td>TUL</td>\n",
              "      <td>585</td>\n",
              "      <td>2</td>\n",
              "      <td>17</td>\n",
              "      <td>0</td>\n",
              "      <td>0</td>\n",
              "    </tr>\n",
              "  </tbody>\n",
              "</table>\n",
              "</div>"
            ],
            "text/plain": [
              "   Year  Month  DayofMonth  DayOfWeek  ...  TaxiIn  TaxiOut  Cancelled  Diverted\n",
              "0  1999     10           3          7  ...       2        4          0         0\n",
              "1  1999      9          11          6  ...       3       13          0         0\n",
              "2  1999     11          15          1  ...       7        8          0         0\n",
              "3  1999     12          16          4  ...       7       10          0         0\n",
              "4  1999      5           7          5  ...       2       17          0         0\n",
              "\n",
              "[5 rows x 23 columns]"
            ]
          },
          "metadata": {
            "tags": []
          },
          "execution_count": 37
        }
      ]
    },
    {
      "cell_type": "code",
      "metadata": {
        "id": "-emSRkwH8jb5",
        "outputId": "de3ba448-7937-46f0-f7b2-50aa9b2768bc",
        "colab": {
          "base_uri": "https://localhost:8080/"
        }
      },
      "source": [
        "from google.colab import drive\n",
        "drive.mount('drive')"
      ],
      "execution_count": 38,
      "outputs": [
        {
          "output_type": "stream",
          "text": [
            "Drive already mounted at drive; to attempt to forcibly remount, call drive.mount(\"drive\", force_remount=True).\n"
          ],
          "name": "stdout"
        }
      ]
    },
    {
      "cell_type": "code",
      "metadata": {
        "id": "djqmgfzO97vf"
      },
      "source": [
        "random_df.to_csv('randomsample_1999.csv',header=True,sep=',',index=False)"
      ],
      "execution_count": 39,
      "outputs": []
    },
    {
      "cell_type": "code",
      "metadata": {
        "id": "3JOT6Fdd9Y0y"
      },
      "source": [
        "!cp randomsample_1999.csv \"drive/My Drive/\""
      ],
      "execution_count": 40,
      "outputs": []
    }
  ]
}